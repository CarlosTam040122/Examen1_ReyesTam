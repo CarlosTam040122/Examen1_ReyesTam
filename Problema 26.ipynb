{
 "cells": [
  {
   "cell_type": "code",
   "execution_count": 1,
   "id": "d0f6fa7f",
   "metadata": {},
   "outputs": [
    {
     "name": "stdout",
     "output_type": "stream",
     "text": [
      "Costo esperado para política preventiva: €4279.97\n",
      "Costo esperado para política correctiva: €5214.08\n",
      "La política preventiva es la mejor opción.\n"
     ]
    }
   ],
   "source": [
    "import random\n",
    "\n",
    "#Parametros del problema\n",
    "TORRE_HERRAMIENTAS = 5;\n",
    "COSTO_HERRAMIENTA = 10;\n",
    "COSTO_PARADA_MAQUINA = 100;\n",
    "\n",
    "#Tabla de horas entre averías para reemplazo de una herramienta\n",
    "horas_falla_una_herramienta = [20, 30, 40, 50, 60, 70, 80];\n",
    "probabilidad_falla_una_herramienta = [0.05, 0.15, 0.15, 0.20, 0.20, 0.15, 0.10];\n",
    "#Tabla de horas entre averías para reemplazo de torre completa\n",
    "horas_falla_torre_completa = [30, 40, 50, 60, 70, 80, 90];\n",
    "probabilidad_falla_torre_completa = [0.05, 0.15, 0.15, 0.20, 0.20, 0.15, 0.10];\n",
    "# Función para simular tiempo de vida de herramientas\n",
    "def simular_tiempo_vida_herramientas(n_herramientas, horas_falla, probabilidad_falla):\n",
    "    tiempo_vida_herramientas = [];\n",
    "    for i in range(n_herramientas):\n",
    "        tiempo_vida_herramientas.append(random.choices(horas_falla, probabilidad_falla)[0]);\n",
    "    tiempo_vida_total = min(tiempo_vida_herramientas);\n",
    "    return tiempo_vida_total;\n",
    "# Función para simular una política de reemplazo\n",
    "def simular_politica_reemplazo(n_experimentos, politica):\n",
    "    costo_total = 0;\n",
    "    for i in range(n_experimentos):\n",
    "        tiempo_vida = simular_tiempo_vida_herramientas(TORRE_HERRAMIENTAS, horas_falla_torre_completa, probabilidad_falla_torre_completa) if politica == \"preventivo\" else simular_tiempo_vida_herramientas(1, horas_falla_una_herramienta, probabilidad_falla_una_herramienta);\n",
    "        costo_reparacion = TORRE_HERRAMIENTAS * COSTO_HERRAMIENTA if politica == \"preventivo\" else COSTO_HERRAMIENTA;\n",
    "        costo_parada_maquina = tiempo_vida * COSTO_PARADA_MAQUINA;\n",
    "        costo_total += costo_reparacion + costo_parada_maquina;\n",
    "    return costo_total / n_experimentos;\n",
    "# Simular ambas políticas y comparar costos\n",
    "n_experimentos = 100000;\n",
    "costo_preventivo = simular_politica_reemplazo(n_experimentos, \"preventivo\");\n",
    "costo_correctivo = simular_politica_reemplazo(n_experimentos, \"correctivo\");\n",
    "print(\"Costo esperado para política preventiva: €{:.2f}\".format(costo_preventivo));\n",
    "print(\"Costo esperado para política correctiva: €{:.2f}\".format(costo_correctivo));\n",
    "if costo_preventivo < costo_correctivo:\n",
    "    print(\"La política preventiva es la mejor opción.\");\n",
    "else:\n",
    "    print(\"La política correctiva es la mejor opción.\");"
   ]
  },
  {
   "cell_type": "code",
   "execution_count": null,
   "id": "7f96628d",
   "metadata": {},
   "outputs": [],
   "source": []
  }
 ],
 "metadata": {
  "kernelspec": {
   "display_name": "Python 3 (ipykernel)",
   "language": "python",
   "name": "python3"
  },
  "language_info": {
   "codemirror_mode": {
    "name": "ipython",
    "version": 3
   },
   "file_extension": ".py",
   "mimetype": "text/x-python",
   "name": "python",
   "nbconvert_exporter": "python",
   "pygments_lexer": "ipython3",
   "version": "3.9.13"
  }
 },
 "nbformat": 4,
 "nbformat_minor": 5
}
