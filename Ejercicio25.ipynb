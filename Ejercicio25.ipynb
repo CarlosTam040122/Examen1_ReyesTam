{
 "cells": [
  {
   "cell_type": "code",
   "execution_count": 13,
   "id": "c0b8e07d",
   "metadata": {},
   "outputs": [
    {
     "name": "stdout",
     "output_type": "stream",
     "text": [
      "El beneficio promedio diario es: 1.4153400000000003\n"
     ]
    }
   ],
   "source": [
    "import random\n",
    "\n",
    "# Función que devuelve el número de periódicos vendidos en función de la distribución de probabilidad\n",
    "def venta_periodicos():\n",
    "    r = random.uniform(0, 1)\n",
    "    if r < 0.2:\n",
    "        return 30\n",
    "    elif r < 0.45:\n",
    "        return 40\n",
    "    elif r < 0.7:\n",
    "        return 50\n",
    "    elif r < 0.9:\n",
    "        return 60\n",
    "    else:\n",
    "        return 70\n",
    "\n",
    "# Parámetros de la simulación\n",
    "num_simulaciones = 100000  # número de simulaciones a realizar\n",
    "num_periodicos = 50  # número de periódicos pedidos cada día\n",
    "coste_perdida_venta = 0.2  # coste de oportunidad de cada venta perdida\n",
    "coste_reciclaje = 0.1  # coste de reciclaje de cada periódico no vendido\n",
    "\n",
    "# Realizar la simulación\n",
    "beneficios = []\n",
    "for i in range(num_simulaciones):\n",
    "    num_vendidos = venta_periodicos()\n",
    "    if num_vendidos > 50:\n",
    "        coste_perdida = (num_vendidos-50)*coste_perdida_venta\n",
    "        num_vendidos=50# se asigna 50 debido a que si la demanda fue de 70 o 60 lo maximo que se vendio fue 50.\n",
    "    else:\n",
    "        coste_perdida = 0\n",
    "    num_no_vendidos = max(num_periodicos - num_vendidos, 0)\n",
    "    ingresos = num_vendidos * 1.1  # precio de venta por periódico\n",
    "    costes = num_periodicos * 0.9 + (num_no_vendidos * coste_reciclaje)\n",
    "    beneficio = ingresos - costes - coste_perdida\n",
    "    beneficios.append(beneficio)\n",
    "# Calcular el beneficio promedio diario\n",
    "beneficio_promedio = sum(beneficios) / num_simulaciones\n",
    "print(\"El beneficio promedio diario es:\", beneficio_promedio)"
   ]
  },
  {
   "cell_type": "code",
   "execution_count": 21,
   "id": "6a912149",
   "metadata": {},
   "outputs": [
    {
     "name": "stdout",
     "output_type": "stream",
     "text": [
      "El beneficio promedio diario es: 1.4382200000000003\n",
      "El número de periódicos que maximiza el beneficio es: 50\n"
     ]
    }
   ],
   "source": [
    "import random\n",
    "\n",
    "# Función que devuelve el número de periódicos vendidos en función de la distribución de probabilidad\n",
    "def venta_periodicos():\n",
    "    r = random.uniform(0, 1)\n",
    "    if r < 0.2:\n",
    "        return 30\n",
    "    elif r < 0.45:\n",
    "        return 40\n",
    "    elif r < 0.7:\n",
    "        return 50\n",
    "    elif r < 0.9:\n",
    "        return 60\n",
    "    else:\n",
    "        return 70\n",
    "\n",
    "# Parámetros de la simulación\n",
    "num_simulaciones = 100000  # número de simulaciones a realizar\n",
    "num_periodicos = 50  # número de periódicos pedidos cada día\n",
    "coste_perdida_venta = 0.2  # coste de oportunidad de cada venta perdida\n",
    "coste_reciclaje = 0.1  # coste de reciclaje de cada periódico no vendido\n",
    "\n",
    "# Realizar la simulación\n",
    "beneficios = []\n",
    "max_beneficio = -float('inf') # Inicializar el máximo beneficio a un valor muy bajo\n",
    "max_num_periodicos = 0 # Inicializar el número de periódicos que maximiza el beneficio a cero\n",
    "for i in range(num_simulaciones):\n",
    "    num_vendidos = venta_periodicos()\n",
    "    if num_vendidos > num_periodicos:\n",
    "        coste_perdida = (num_vendidos-num_periodicos)*coste_perdida_venta\n",
    "        num_vendidos = num_periodicos\n",
    "    else:\n",
    "        coste_perdida = 0\n",
    "    num_no_vendidos = max(num_periodicos - num_vendidos, 0)\n",
    "    ingresos = num_vendidos * 1.1  # precio de venta por periódico\n",
    "    costes = num_periodicos * 0.9 + (num_no_vendidos * coste_reciclaje)\n",
    "    beneficio = ingresos - costes - coste_perdida\n",
    "    beneficios.append(beneficio)\n",
    "    if beneficio > max_beneficio:\n",
    "        max_beneficio = beneficio\n",
    "        max_num_periodicos = num_periodicos\n",
    "\n",
    "# Calcular el beneficio promedio diario\n",
    "beneficio_promedio = sum(beneficios) / num_simulaciones\n",
    "print(\"El beneficio promedio diario es:\", beneficio_promedio)\n",
    "print(\"El número de periódicos que maximiza el beneficio es:\", max_num_periodicos)\n"
   ]
  },
  {
   "cell_type": "markdown",
   "id": "037c33b6",
   "metadata": {},
   "source": [
    "La probabilidad de que se vendan 30 periódicos es del 20% = 0.2\n",
    "La probabilidad de que se vendan 40 periódicos es del 25% = 0.25\n",
    "La probabilidad de que se vendan 50 periódicos es del 25% = 0.25\n",
    "La probabilidad de que se vendan 60 periódicos es del 20% = 0.2\n",
    "La probabilidad de que se vendan 70 periódicos es del 10% = 0.1\n",
    "Beneficio promedio diario = Ingresos diarios - Costes diarios - Coste de oportunidad diario\n",
    "Donde:\n",
    "Ingresos diarios = Precio de venta por periodico x Numero de periódicos vendidos diarios\n",
    "Costes diarios = Coste por periódico x Número de periódicos comprados diarios + Coste de reciclaje por periódico x Número de periódicos no vendidos diarios\n",
    "Sustituyendo los valores dados en el enunciado, tenemos:\n",
    "Precio de venta por periódico = 1.10 euros\n",
    "Coste por periódico = 0.90 euros\n",
    "Coste de reciclaje por periódico = 0.10 euros\n",
    "Número de periódicos comprados diarios = 50\n",
    "Ahora, para calcular los valores de ingresos diarios, costes diarios y coste de oportunidad diario, es necesario calcular primero el numero de periodicos vendidos diarios en promedio, utilizaremos  valor esperado de la distribucion de probabilidad:\n",
    "Número de periódicos vendidos diarios = 30 x 0.2 + 40 x 0.25 + 50 x 0.25 + 60 x 0.2 + 70 x 0.1 = 47.5\n",
    "\n",
    "Entonces, los valores de ingresos diarios, costes diarios y coste de oportunidad diario son:\n",
    "\n",
    "Ingresos diarios = 1.1 x 47.5  = 52.25\n",
    "Costes diarios = (0.90  x 50) + (0.1 x 2.5 periódicos no vendidos en promedio) = 45.25 euros\n",
    "Coste de oportunidad diario = 0.20 euros x (47.5 -50 periódicos no vendidos en promedio) = -0.50 euros\n",
    "El coste de oportunidad diario es negativo, ya que en promedio se venden menos periódicos de los que se compran.\n",
    "\n",
    "Finalmente, el beneficio promedio diario es:\n",
    "\n",
    "Beneficio promedio diario = 52.25 euros - 45.250 euros - (-0.50 euros) = 5.80 euros"
   ]
  },
  {
   "cell_type": "code",
   "execution_count": null,
   "id": "bd6ca2c5",
   "metadata": {},
   "outputs": [],
   "source": []
  },
  {
   "cell_type": "code",
   "execution_count": null,
   "id": "5d8b3282",
   "metadata": {},
   "outputs": [],
   "source": []
  }
 ],
 "metadata": {
  "kernelspec": {
   "display_name": "Python 3 (ipykernel)",
   "language": "python",
   "name": "python3"
  },
  "language_info": {
   "codemirror_mode": {
    "name": "ipython",
    "version": 3
   },
   "file_extension": ".py",
   "mimetype": "text/x-python",
   "name": "python",
   "nbconvert_exporter": "python",
   "pygments_lexer": "ipython3",
   "version": "3.9.13"
  }
 },
 "nbformat": 4,
 "nbformat_minor": 5
}
