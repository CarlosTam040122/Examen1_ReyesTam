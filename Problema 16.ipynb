{
 "cells": [
  {
   "cell_type": "code",
   "execution_count": 5,
   "id": "21827cf0",
   "metadata": {},
   "outputs": [
    {
     "name": "stdout",
     "output_type": "stream",
     "text": [
      "Probabilidad mediante simulacion:  0.555745\n"
     ]
    }
   ],
   "source": [
    "\"\"\"\n",
    "@author: itost\n",
    "\"\"\"\n",
    "import random\n",
    "N = 1000000; # número de simulaciones\n",
    "contador = 0;\n",
    "for i in range(N):\n",
    "    t = random.uniform(0, 30); # tiempo de llegada de la primera persona\n",
    "    s = random.uniform(0, 30); # tiempo de llegada de la segunda persona\n",
    "    if abs(t - s) <= 10:\n",
    "        contador += 1;\n",
    "print(\"Probabilidad mediante simulacion: \", contador/N);"
   ]
  },
  {
   "cell_type": "markdown",
   "id": "63121479",
   "metadata": {},
   "source": [
    "Supongamos que el tiempo que tarda cada persona en llegar al lugar se distribuye uniformemente en el rango [0,30]. Entonces, la probabilidad de que la primera persona llegue en cualquier momento dado es igual a 1/30, y la probabilidad de que la segunda persona llegue en cualquier momento dado tambien es igual a 1/30.\n",
    "Para calcular la probabilidad de que la primera persona espere como máximo 10 minutos a la segunda persona, podemos considerar dos casos:\n",
    "1.La segunda persona llega dentro de los primeros 10 minutos después de que llega la primera persona:\n",
    "En este caso, el rango de tiempo en el que la segunda persona puede llegar es [0,10], y la probabilidad de que la segunda persona llegue en ese rango es de 10/30 = 1/3. La probabilidad de que la primera persona llegue en cualquier momento dentro de ese rango es igual a 10/30 = 1/3. Por lo tanto, la probabilidad conjunta de que la segunda persona llegue dentro de los primeros 10 minutos después de que llega la primera persona y la primera persona llegue en cualquier momento dentro de ese rango es (1/3)*(1/3) = 1/9.\n",
    "2.La segunda persona llega despues de los primeros 10 minutos después de que llega la primera persona:\n",
    "En este caso, el rango de tiempo en el que la segunda persona puede llegar es [10,30], y la probabilidad de que la segunda persona llegue en ese rango es de 20/30 = 2/3. La probabilidad de que la primera persona llegue en cualquier momento dentro de ese rango es igual a 20/30 = 2/3. Por lo tanto, la probabilidad conjunta de que la segunda persona llegue despues de los primeros 10 minutos despues de que llega la primera persona y la primera persona llegue en cualquier momento dentro de ese rango es (2/3) x (2/3) = 4/9.\n",
    "La probabilidad total de que la primera persona espere como maximo 10 minutos a la segunda persona es la suma de las probabilidades conjuntas de los dos casos, es decir: 1/9 + 4/9 = 5/9=0.55555"
   ]
  },
  {
   "cell_type": "code",
   "execution_count": null,
   "id": "3060ce7d",
   "metadata": {},
   "outputs": [],
   "source": []
  },
  {
   "cell_type": "code",
   "execution_count": null,
   "id": "bad0450b",
   "metadata": {},
   "outputs": [],
   "source": []
  },
  {
   "cell_type": "code",
   "execution_count": null,
   "id": "50e4f653",
   "metadata": {},
   "outputs": [],
   "source": []
  },
  {
   "cell_type": "code",
   "execution_count": null,
   "id": "68909b32",
   "metadata": {},
   "outputs": [],
   "source": []
  }
 ],
 "metadata": {
  "kernelspec": {
   "display_name": "Python 3 (ipykernel)",
   "language": "python",
   "name": "python3"
  },
  "language_info": {
   "codemirror_mode": {
    "name": "ipython",
    "version": 3
   },
   "file_extension": ".py",
   "mimetype": "text/x-python",
   "name": "python",
   "nbconvert_exporter": "python",
   "pygments_lexer": "ipython3",
   "version": "3.9.13"
  }
 },
 "nbformat": 4,
 "nbformat_minor": 5
}
