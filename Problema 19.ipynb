{
 "cells": [
  {
   "cell_type": "code",
   "execution_count": 14,
   "id": "3d6593ba",
   "metadata": {},
   "outputs": [
    {
     "name": "stdout",
     "output_type": "stream",
     "text": [
      "La probabilidad de que las bombillas de A tengan una duración media de al menos 160 horas más que la media de A es: 0.975\n",
      "La probabilidad de que las bombillas de A tengan una duración media que sea al menos 250 horas más que las bombillas de B es: 0.0069\n"
     ]
    }
   ],
   "source": [
    "import numpy as np\n",
    "\n",
    "# Generamos las muestras aleatorias de A y B\n",
    "muestras_a = np.random.normal(loc=1400, scale=200, size=(10000, 125))\n",
    "muestras_b = np.random.normal(loc=1200, scale=100, size=(10000, 125))\n",
    "\n",
    "# Calculamos la duración media muestral para cada muestra\n",
    "medias_a = np.mean(muestras_a, axis=1)\n",
    "medias_b = np.mean(muestras_b, axis=1)\n",
    "\n",
    "# Calculamos la diferencia de duraciones medias muestrales\n",
    "diferencias = medias_a - medias_b\n",
    "\n",
    "# Para la parte (a)\n",
    "prob_a = np.mean(diferencias >= 160)\n",
    "\n",
    "# Para la parte (b)\n",
    "prob_b = np.mean(diferencias >= 250)\n",
    "\n",
    "print(f\"La probabilidad de que las bombillas de A tengan una duración media de al menos 160 horas más que la media de A es: {prob_a}\")\n",
    "print(f\"La probabilidad de que las bombillas de A tengan una duración media que sea al menos 250 horas más que las bombillas de B es: {prob_b}\")\n"
   ]
  },
  {
   "cell_type": "code",
   "execution_count": null,
   "id": "34117e9e",
   "metadata": {},
   "outputs": [],
   "source": []
  },
  {
   "cell_type": "markdown",
   "id": "c971f621",
   "metadata": {},
   "source": []
  },
  {
   "cell_type": "code",
   "execution_count": null,
   "id": "e6f74b18",
   "metadata": {},
   "outputs": [],
   "source": []
  },
  {
   "cell_type": "code",
   "execution_count": null,
   "id": "a5990f98",
   "metadata": {},
   "outputs": [],
   "source": []
  },
  {
   "cell_type": "code",
   "execution_count": null,
   "id": "edd7d124",
   "metadata": {},
   "outputs": [],
   "source": []
  }
 ],
 "metadata": {
  "kernelspec": {
   "display_name": "Python 3 (ipykernel)",
   "language": "python",
   "name": "python3"
  },
  "language_info": {
   "codemirror_mode": {
    "name": "ipython",
    "version": 3
   },
   "file_extension": ".py",
   "mimetype": "text/x-python",
   "name": "python",
   "nbconvert_exporter": "python",
   "pygments_lexer": "ipython3",
   "version": "3.9.13"
  }
 },
 "nbformat": 4,
 "nbformat_minor": 5
}
